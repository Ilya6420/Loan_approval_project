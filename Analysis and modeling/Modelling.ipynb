{
 "cells": [
  {
   "cell_type": "code",
   "execution_count": 1,
   "metadata": {
    "ExecuteTime": {
     "end_time": "2021-05-13T20:49:17.159839Z",
     "start_time": "2021-05-13T20:49:13.940986Z"
    }
   },
   "outputs": [],
   "source": [
    "import pandas as pd\n",
    "import numpy as np\n",
    "\n",
    "from sklearn.linear_model import LogisticRegression\n",
    "from sklearn.svm import SVC\n",
    "from sklearn.ensemble import RandomForestClassifier\n",
    "\n",
    "from sklearn.model_selection import train_test_split\n",
    "from sklearn.metrics import classification_report\n",
    "from sklearn.model_selection import GridSearchCV\n",
    "from sklearn.preprocessing import StandardScaler"
   ]
  },
  {
   "cell_type": "code",
   "execution_count": 2,
   "metadata": {
    "ExecuteTime": {
     "end_time": "2021-05-13T20:49:17.821367Z",
     "start_time": "2021-05-13T20:49:17.816336Z"
    }
   },
   "outputs": [],
   "source": [
    "import warnings\n",
    "warnings.filterwarnings(\"ignore\")"
   ]
  },
  {
   "cell_type": "code",
   "execution_count": 38,
   "metadata": {
    "ExecuteTime": {
     "end_time": "2021-05-13T21:29:40.043130Z",
     "start_time": "2021-05-13T21:29:40.016127Z"
    }
   },
   "outputs": [],
   "source": [
    "data = pd.read_csv('train.csv')\n",
    "data.drop('Loan_ID', axis=1, inplace=True)\n",
    "data_NA = data.dropna()"
   ]
  },
  {
   "cell_type": "code",
   "execution_count": 39,
   "metadata": {
    "ExecuteTime": {
     "end_time": "2021-05-13T21:29:44.965005Z",
     "start_time": "2021-05-13T21:29:44.954003Z"
    }
   },
   "outputs": [],
   "source": [
    "data_NA.Dependents = data_NA.Dependents.astype('string')\n",
    "data_NA.Dependents = data_NA.Dependents.apply(lambda x: x.replace('3+','3'))\n",
    "data_NA.Dependents = data_NA.Dependents.astype('int64')"
   ]
  },
  {
   "cell_type": "code",
   "execution_count": 40,
   "metadata": {
    "ExecuteTime": {
     "end_time": "2021-05-13T21:29:52.555297Z",
     "start_time": "2021-05-13T21:29:52.544295Z"
    }
   },
   "outputs": [],
   "source": [
    "X_selected = data_NA[['Credit_History',  'ApplicantIncome', 'CoapplicantIncome', 'Dependents', 'LoanAmount','Loan_Amount_Term']]\n",
    "y = data_NA['Loan_Status'].map({'N':0, 'Y': 1})"
   ]
  },
  {
   "cell_type": "code",
   "execution_count": 41,
   "metadata": {
    "ExecuteTime": {
     "end_time": "2021-05-13T21:29:52.755809Z",
     "start_time": "2021-05-13T21:29:52.746788Z"
    }
   },
   "outputs": [],
   "source": [
    "X_selected['ApplicantIncome'] = X_selected['ApplicantIncome'].astype('float64')\n",
    "X_selected['Dependents'] = X_selected['Dependents'].astype('float64')"
   ]
  },
  {
   "cell_type": "code",
   "execution_count": 42,
   "metadata": {
    "ExecuteTime": {
     "end_time": "2021-05-13T21:29:54.471722Z",
     "start_time": "2021-05-13T21:29:54.460689Z"
    }
   },
   "outputs": [],
   "source": [
    "X_train, X_test, y_train, y_test = train_test_split(X_selected, y, test_size=0.20, random_state=42, stratify=y)"
   ]
  },
  {
   "cell_type": "code",
   "execution_count": 43,
   "metadata": {
    "ExecuteTime": {
     "end_time": "2021-05-13T21:29:54.915875Z",
     "start_time": "2021-05-13T21:29:54.891875Z"
    }
   },
   "outputs": [],
   "source": [
    "scaler = StandardScaler()\n",
    "scaler.fit(X_train)\n",
    "X_train_scaled = pd.DataFrame(scaler.transform(X_train), columns=X_train.columns)\n",
    "X_test_scaled = pd.DataFrame(scaler.transform(X_test), columns=X_test.columns)"
   ]
  },
  {
   "cell_type": "markdown",
   "metadata": {},
   "source": [
    "**Here we will build simple models and tuned by GridSearch. We will use Logistic Regression, Random Forest, SVM**"
   ]
  },
  {
   "cell_type": "code",
   "execution_count": 45,
   "metadata": {
    "ExecuteTime": {
     "end_time": "2021-05-13T21:32:39.554310Z",
     "start_time": "2021-05-13T21:32:39.549307Z"
    }
   },
   "outputs": [],
   "source": [
    "## Random Forest"
   ]
  },
  {
   "cell_type": "code",
   "execution_count": 44,
   "metadata": {
    "ExecuteTime": {
     "end_time": "2021-05-13T21:29:56.178472Z",
     "start_time": "2021-05-13T21:29:55.827680Z"
    }
   },
   "outputs": [
    {
     "name": "stdout",
     "output_type": "stream",
     "text": [
      "              precision    recall  f1-score   support\n",
      "\n",
      "           0    0.73333   0.73333   0.73333        30\n",
      "           1    0.87879   0.87879   0.87879        66\n",
      "\n",
      "    accuracy                        0.83333        96\n",
      "   macro avg    0.80606   0.80606   0.80606        96\n",
      "weighted avg    0.83333   0.83333   0.83333        96\n",
      "\n"
     ]
    }
   ],
   "source": [
    "rf_clf = RandomForestClassifier(random_state=42)\n",
    "rf_clf.fit(X_train_scaled, y_train)\n",
    "\n",
    "pred_rf = rf_clf.predict(X_test_scaled)\n",
    "print(classification_report(y_test, pred_rf, digits=5))"
   ]
  },
  {
   "cell_type": "code",
   "execution_count": 12,
   "metadata": {
    "ExecuteTime": {
     "end_time": "2021-05-13T20:49:33.295805Z",
     "start_time": "2021-05-13T20:49:33.283838Z"
    }
   },
   "outputs": [],
   "source": [
    "param_rf = [{'max_depth': [5, 9, 14, 21],\n",
    "            'min_samples_split': range(2, 30, 5),\n",
    "            'min_samples_leaf': range(2, 30, 5),\n",
    "            'bootstrap': [True, False],\n",
    "             'class_weight': [{0:0.5, 1:0.5}, {0:0.6, 1:0.4}, {0:0.7, 1:0.3}, {0:0.8, 1:0.2}]\n",
    "            }]"
   ]
  },
  {
   "cell_type": "code",
   "execution_count": 13,
   "metadata": {
    "ExecuteTime": {
     "end_time": "2021-05-13T21:02:22.878506Z",
     "start_time": "2021-05-13T20:49:34.255844Z"
    }
   },
   "outputs": [
    {
     "name": "stdout",
     "output_type": "stream",
     "text": [
      "Fitting 5 folds for each of 1152 candidates, totalling 5760 fits\n"
     ]
    },
    {
     "name": "stderr",
     "output_type": "stream",
     "text": [
      "[Parallel(n_jobs=-1)]: Using backend LokyBackend with 4 concurrent workers.\n",
      "[Parallel(n_jobs=-1)]: Done  42 tasks      | elapsed:   10.5s\n",
      "[Parallel(n_jobs=-1)]: Done 192 tasks      | elapsed:   27.6s\n",
      "[Parallel(n_jobs=-1)]: Done 442 tasks      | elapsed:  1.0min\n",
      "[Parallel(n_jobs=-1)]: Done 792 tasks      | elapsed:  2.2min\n",
      "[Parallel(n_jobs=-1)]: Done 1242 tasks      | elapsed:  3.2min\n",
      "[Parallel(n_jobs=-1)]: Done 1792 tasks      | elapsed:  4.5min\n",
      "[Parallel(n_jobs=-1)]: Done 2442 tasks      | elapsed:  6.1min\n",
      "[Parallel(n_jobs=-1)]: Done 3192 tasks      | elapsed:  7.7min\n",
      "[Parallel(n_jobs=-1)]: Done 4042 tasks      | elapsed:  9.4min\n",
      "[Parallel(n_jobs=-1)]: Done 4992 tasks      | elapsed: 11.1min\n",
      "[Parallel(n_jobs=-1)]: Done 5760 out of 5760 | elapsed: 12.8min finished\n"
     ]
    },
    {
     "data": {
      "text/plain": [
       "GridSearchCV(cv=5, estimator=RandomForestClassifier(random_state=42), n_jobs=-1,\n",
       "             param_grid=[{'bootstrap': [True, False],\n",
       "                          'class_weight': [{0: 0.5, 1: 0.5}, {0: 0.6, 1: 0.4},\n",
       "                                           {0: 0.7, 1: 0.3}, {0: 0.8, 1: 0.2}],\n",
       "                          'max_depth': [5, 9, 14, 21],\n",
       "                          'min_samples_leaf': range(2, 30, 5),\n",
       "                          'min_samples_split': range(2, 30, 5)}],\n",
       "             scoring='f1', verbose=True)"
      ]
     },
     "execution_count": 13,
     "metadata": {},
     "output_type": "execute_result"
    }
   ],
   "source": [
    "grid_rf = GridSearchCV(RandomForestClassifier(random_state=42), param_rf, cv=5, verbose=True, n_jobs=-1, scoring='f1')\n",
    "grid_rf.fit(X_train_scaled, y_train)"
   ]
  },
  {
   "cell_type": "code",
   "execution_count": 14,
   "metadata": {
    "ExecuteTime": {
     "end_time": "2021-05-13T21:02:41.351858Z",
     "start_time": "2021-05-13T21:02:41.342857Z"
    }
   },
   "outputs": [
    {
     "data": {
      "text/plain": [
       "({'bootstrap': True,\n",
       "  'class_weight': {0: 0.5, 1: 0.5},\n",
       "  'max_depth': 5,\n",
       "  'min_samples_leaf': 7,\n",
       "  'min_samples_split': 22},\n",
       " 0.8735682180658257)"
      ]
     },
     "execution_count": 14,
     "metadata": {},
     "output_type": "execute_result"
    }
   ],
   "source": [
    "grid_rf.best_params_, grid_rf.best_score_"
   ]
  },
  {
   "cell_type": "code",
   "execution_count": 15,
   "metadata": {
    "ExecuteTime": {
     "end_time": "2021-05-13T21:02:57.542844Z",
     "start_time": "2021-05-13T21:02:55.976336Z"
    }
   },
   "outputs": [
    {
     "name": "stdout",
     "output_type": "stream",
     "text": [
      "              precision    recall  f1-score   support\n",
      "\n",
      "           0     0.8889    0.5333    0.6667        30\n",
      "           1     0.8205    0.9697    0.8889        66\n",
      "\n",
      "    accuracy                         0.8333        96\n",
      "   macro avg     0.8547    0.7515    0.7778        96\n",
      "weighted avg     0.8419    0.8333    0.8194        96\n",
      "\n"
     ]
    }
   ],
   "source": [
    "best_rf = RandomForestClassifier(n_estimators=500, bootstrap=True, max_depth=5, min_samples_leaf=7, min_samples_split=22,\n",
    "                                random_state=42)\n",
    "best_rf.fit(X_train_scaled, y_train)\n",
    "pred_best_rf = best_rf.predict(X_test_scaled)\n",
    "print(classification_report(y_test, pred_best_rf, digits=4))"
   ]
  },
  {
   "cell_type": "markdown",
   "metadata": {},
   "source": [
    "Accuracy remained the same, but after some tuning f-1 score the positive class has slightly increased"
   ]
  },
  {
   "cell_type": "code",
   "execution_count": 46,
   "metadata": {
    "ExecuteTime": {
     "end_time": "2021-05-13T21:34:16.469497Z",
     "start_time": "2021-05-13T21:34:16.465497Z"
    }
   },
   "outputs": [],
   "source": [
    "## Logistic Regression"
   ]
  },
  {
   "cell_type": "code",
   "execution_count": 16,
   "metadata": {
    "ExecuteTime": {
     "end_time": "2021-05-13T21:05:28.666282Z",
     "start_time": "2021-05-13T21:05:28.656280Z"
    }
   },
   "outputs": [],
   "source": [
    "param_log = [{'C': [0.01, 0.1, 1, 10, 100, 1000],\n",
    "             'solver': ['liblinear', 'newton-cg', 'sag', 'saga','lbfgs'],\n",
    "              'class_weight': [{0:0.5, 1:0.5}, {0:0.6, 1:0.4}, {0:0.7, 1:0.3}, {0:0.8, 1:0.2}]\n",
    "             }]"
   ]
  },
  {
   "cell_type": "code",
   "execution_count": 17,
   "metadata": {
    "ExecuteTime": {
     "end_time": "2021-05-13T21:05:34.291565Z",
     "start_time": "2021-05-13T21:05:30.523782Z"
    }
   },
   "outputs": [
    {
     "name": "stdout",
     "output_type": "stream",
     "text": [
      "Fitting 5 folds for each of 120 candidates, totalling 600 fits\n"
     ]
    },
    {
     "name": "stderr",
     "output_type": "stream",
     "text": [
      "[Parallel(n_jobs=-1)]: Using backend LokyBackend with 4 concurrent workers.\n",
      "[Parallel(n_jobs=-1)]: Done 116 tasks      | elapsed:    1.0s\n",
      "[Parallel(n_jobs=-1)]: Done 600 out of 600 | elapsed:    3.6s finished\n"
     ]
    },
    {
     "data": {
      "text/plain": [
       "GridSearchCV(cv=5,\n",
       "             estimator=LogisticRegression(max_iter=10000, random_state=42),\n",
       "             n_jobs=-1,\n",
       "             param_grid=[{'C': [0.01, 0.1, 1, 10, 100, 1000],\n",
       "                          'class_weight': [{0: 0.5, 1: 0.5}, {0: 0.6, 1: 0.4},\n",
       "                                           {0: 0.7, 1: 0.3}, {0: 0.8, 1: 0.2}],\n",
       "                          'solver': ['liblinear', 'newton-cg', 'sag', 'saga',\n",
       "                                     'lbfgs']}],\n",
       "             scoring='f1', verbose=True)"
      ]
     },
     "execution_count": 17,
     "metadata": {},
     "output_type": "execute_result"
    }
   ],
   "source": [
    "grid_log = GridSearchCV(LogisticRegression(random_state=42, max_iter=10000), param_log, cv=5, verbose=True, n_jobs=-1, scoring='f1')\n",
    "grid_log.fit(X_train_scaled, y_train)"
   ]
  },
  {
   "cell_type": "code",
   "execution_count": 18,
   "metadata": {
    "ExecuteTime": {
     "end_time": "2021-05-13T21:05:36.909108Z",
     "start_time": "2021-05-13T21:05:36.900109Z"
    }
   },
   "outputs": [
    {
     "data": {
      "text/plain": [
       "({'C': 0.01, 'class_weight': {0: 0.6, 1: 0.4}, 'solver': 'newton-cg'},\n",
       " 0.8735682180658257)"
      ]
     },
     "execution_count": 18,
     "metadata": {},
     "output_type": "execute_result"
    }
   ],
   "source": [
    "grid_log.best_params_, grid_log.best_score_"
   ]
  },
  {
   "cell_type": "code",
   "execution_count": 19,
   "metadata": {
    "ExecuteTime": {
     "end_time": "2021-05-13T21:05:38.349011Z",
     "start_time": "2021-05-13T21:05:38.315009Z"
    }
   },
   "outputs": [
    {
     "name": "stdout",
     "output_type": "stream",
     "text": [
      "              precision    recall  f1-score   support\n",
      "\n",
      "           0     0.8889    0.5333    0.6667        30\n",
      "           1     0.8205    0.9697    0.8889        66\n",
      "\n",
      "    accuracy                         0.8333        96\n",
      "   macro avg     0.8547    0.7515    0.7778        96\n",
      "weighted avg     0.8419    0.8333    0.8194        96\n",
      "\n"
     ]
    }
   ],
   "source": [
    "best_log = grid_log.best_estimator_\n",
    "best_log.fit(X_train_scaled, y_train)\n",
    "best_log_pred = best_log.predict(X_test_scaled)\n",
    "print(classification_report(y_test, best_log_pred, digits=4))"
   ]
  },
  {
   "cell_type": "code",
   "execution_count": 20,
   "metadata": {
    "ExecuteTime": {
     "end_time": "2021-05-13T21:05:43.975707Z",
     "start_time": "2021-05-13T21:05:43.943705Z"
    }
   },
   "outputs": [
    {
     "name": "stdout",
     "output_type": "stream",
     "text": [
      "              precision    recall  f1-score   support\n",
      "\n",
      "           0    0.89474   0.56667   0.69388        30\n",
      "           1    0.83117   0.96970   0.89510        66\n",
      "\n",
      "    accuracy                        0.84375        96\n",
      "   macro avg    0.86295   0.76818   0.79449        96\n",
      "weighted avg    0.85103   0.84375   0.83222        96\n",
      "\n"
     ]
    }
   ],
   "source": [
    "log_clf = LogisticRegression(random_state=42,max_iter=1000)\n",
    "log_clf.fit(X_train_scaled, y_train)\n",
    "\n",
    "pred_log = log_clf.predict(X_test_scaled)\n",
    "print(classification_report(y_test, pred_log, digits=5))"
   ]
  },
  {
   "cell_type": "markdown",
   "metadata": {
    "ExecuteTime": {
     "end_time": "2021-05-13T21:35:38.605058Z",
     "start_time": "2021-05-13T21:35:38.598057Z"
    }
   },
   "source": [
    "Simple logistic regression worked better."
   ]
  },
  {
   "cell_type": "code",
   "execution_count": 48,
   "metadata": {
    "ExecuteTime": {
     "end_time": "2021-05-13T21:36:50.312105Z",
     "start_time": "2021-05-13T21:36:50.237101Z"
    }
   },
   "outputs": [
    {
     "name": "stdout",
     "output_type": "stream",
     "text": [
      "              precision    recall  f1-score   support\n",
      "\n",
      "           0     0.8182    0.6000    0.6923        30\n",
      "           1     0.8378    0.9394    0.8857        66\n",
      "\n",
      "    accuracy                         0.8333        96\n",
      "   macro avg     0.8280    0.7697    0.7890        96\n",
      "weighted avg     0.8317    0.8333    0.8253        96\n",
      "\n"
     ]
    }
   ],
   "source": [
    "svc_clf = SVC(random_state=42, probability=True)\n",
    "svc_clf.fit(X_train_scaled, y_train)\n",
    "svc_pred = svc_clf.predict(X_test_scaled)\n",
    "print(classification_report(y_test, svc_pred, digits=4))"
   ]
  },
  {
   "cell_type": "code",
   "execution_count": 21,
   "metadata": {
    "ExecuteTime": {
     "end_time": "2021-05-13T21:06:07.115405Z",
     "start_time": "2021-05-13T21:06:07.104407Z"
    }
   },
   "outputs": [],
   "source": [
    "param_svc = [{'kernel': ['rbf'],\n",
    "              'C': [0.01, 0.1, 1, 10, 100],\n",
    "             'gamma': ['scale', 'auto']},\n",
    "             {'kernel': ['poly'],\n",
    "             'degree': range(2, 15, 3),\n",
    "             'C': [0.01, 0.1, 1, 10, 100],\n",
    "             'class_weight': [{0:0.5, 1:0.5}, {0:0.6, 1:0.4}, {0:0.7, 1:0.3}, {0:0.8, 1:0.2}]}]"
   ]
  },
  {
   "cell_type": "code",
   "execution_count": 22,
   "metadata": {
    "ExecuteTime": {
     "end_time": "2021-05-13T21:06:27.172927Z",
     "start_time": "2021-05-13T21:06:07.496750Z"
    }
   },
   "outputs": [
    {
     "name": "stdout",
     "output_type": "stream",
     "text": [
      "Fitting 5 folds for each of 110 candidates, totalling 550 fits\n"
     ]
    },
    {
     "name": "stderr",
     "output_type": "stream",
     "text": [
      "[Parallel(n_jobs=-1)]: Using backend LokyBackend with 4 concurrent workers.\n",
      "[Parallel(n_jobs=-1)]: Done  92 tasks      | elapsed:    1.8s\n",
      "[Parallel(n_jobs=-1)]: Done 534 tasks      | elapsed:   18.7s\n",
      "[Parallel(n_jobs=-1)]: Done 550 out of 550 | elapsed:   19.5s finished\n"
     ]
    },
    {
     "data": {
      "text/plain": [
       "GridSearchCV(cv=5, estimator=SVC(probability=True, random_state=42), n_jobs=-1,\n",
       "             param_grid=[{'C': [0.01, 0.1, 1, 10, 100],\n",
       "                          'gamma': ['scale', 'auto'], 'kernel': ['rbf']},\n",
       "                         {'C': [0.01, 0.1, 1, 10, 100],\n",
       "                          'class_weight': [{0: 0.5, 1: 0.5}, {0: 0.6, 1: 0.4},\n",
       "                                           {0: 0.7, 1: 0.3}, {0: 0.8, 1: 0.2}],\n",
       "                          'degree': range(2, 15, 3), 'kernel': ['poly']}],\n",
       "             scoring='f1', verbose=2)"
      ]
     },
     "execution_count": 22,
     "metadata": {},
     "output_type": "execute_result"
    }
   ],
   "source": [
    "greed_svc = GridSearchCV(SVC(random_state=42, probability=True), param_svc, cv=5, verbose=2, n_jobs=-1, scoring='f1')\n",
    "greed_svc.fit(X_train_scaled, y_train)"
   ]
  },
  {
   "cell_type": "code",
   "execution_count": 23,
   "metadata": {
    "ExecuteTime": {
     "end_time": "2021-05-13T21:08:16.073055Z",
     "start_time": "2021-05-13T21:08:16.064554Z"
    }
   },
   "outputs": [
    {
     "data": {
      "text/plain": [
       "({'C': 0.1, 'class_weight': {0: 0.6, 1: 0.4}, 'degree': 5, 'kernel': 'poly'},\n",
       " 0.872579745228648)"
      ]
     },
     "execution_count": 23,
     "metadata": {},
     "output_type": "execute_result"
    }
   ],
   "source": [
    "greed_svc.best_params_, greed_svc.best_score_"
   ]
  },
  {
   "cell_type": "code",
   "execution_count": 24,
   "metadata": {
    "ExecuteTime": {
     "end_time": "2021-05-13T21:08:16.908204Z",
     "start_time": "2021-05-13T21:08:16.833695Z"
    }
   },
   "outputs": [
    {
     "name": "stdout",
     "output_type": "stream",
     "text": [
      "              precision    recall  f1-score   support\n",
      "\n",
      "           0     0.8095    0.5667    0.6667        30\n",
      "           1     0.8267    0.9394    0.8794        66\n",
      "\n",
      "    accuracy                         0.8229        96\n",
      "   macro avg     0.8181    0.7530    0.7730        96\n",
      "weighted avg     0.8213    0.8229    0.8129        96\n",
      "\n"
     ]
    }
   ],
   "source": [
    "best_svc = greed_svc.best_estimator_\n",
    "best_svc.fit(X_train_scaled, y_train)\n",
    "best_svc_pred = best_svc.predict(X_test_scaled)\n",
    "print(classification_report(y_test, best_svc_pred, digits=4))"
   ]
  },
  {
   "cell_type": "markdown",
   "metadata": {},
   "source": [
    "**We can conclude that simple Lofistion regression won. We will take it as the final model**"
   ]
  },
  {
   "cell_type": "code",
   "execution_count": 49,
   "metadata": {
    "ExecuteTime": {
     "end_time": "2021-05-13T21:38:31.555089Z",
     "start_time": "2021-05-13T21:38:31.550090Z"
    }
   },
   "outputs": [],
   "source": [
    "# Make pipeline and save the model"
   ]
  },
  {
   "cell_type": "code",
   "execution_count": 50,
   "metadata": {
    "ExecuteTime": {
     "end_time": "2021-05-13T21:38:33.560701Z",
     "start_time": "2021-05-13T21:38:33.555702Z"
    }
   },
   "outputs": [],
   "source": [
    "from sklearn.pipeline  import Pipeline\n",
    "from sklearn.compose import ColumnTransformer"
   ]
  },
  {
   "cell_type": "code",
   "execution_count": 51,
   "metadata": {
    "ExecuteTime": {
     "end_time": "2021-05-13T21:38:34.241938Z",
     "start_time": "2021-05-13T21:38:34.211903Z"
    }
   },
   "outputs": [],
   "source": [
    "full_pipeline_with_predictor = Pipeline([\n",
    "        (\"preparation\", StandardScaler()),\n",
    "        (\"rf\", log_clf)\n",
    "    ])\n",
    "\n",
    "full_pipeline_with_predictor.fit(X_train, y_train)\n",
    "pipe_pred = full_pipeline_with_predictor.predict(X_test)"
   ]
  },
  {
   "cell_type": "code",
   "execution_count": 52,
   "metadata": {
    "ExecuteTime": {
     "end_time": "2021-05-13T21:38:34.913621Z",
     "start_time": "2021-05-13T21:38:34.899618Z"
    }
   },
   "outputs": [
    {
     "name": "stdout",
     "output_type": "stream",
     "text": [
      "              precision    recall  f1-score   support\n",
      "\n",
      "           0     0.8947    0.5667    0.6939        30\n",
      "           1     0.8312    0.9697    0.8951        66\n",
      "\n",
      "    accuracy                         0.8438        96\n",
      "   macro avg     0.8630    0.7682    0.7945        96\n",
      "weighted avg     0.8510    0.8438    0.8322        96\n",
      "\n"
     ]
    }
   ],
   "source": [
    "print(classification_report(y_test, pipe_pred, digits=4))"
   ]
  },
  {
   "cell_type": "code",
   "execution_count": null,
   "metadata": {},
   "outputs": [],
   "source": []
  },
  {
   "cell_type": "code",
   "execution_count": 53,
   "metadata": {
    "ExecuteTime": {
     "end_time": "2021-05-13T21:38:40.366091Z",
     "start_time": "2021-05-13T21:38:40.070234Z"
    }
   },
   "outputs": [],
   "source": [
    "import dill as pickle\n",
    "filename_norm = 'model_loan.pk' # имя файла для сохранения модели"
   ]
  },
  {
   "cell_type": "code",
   "execution_count": 54,
   "metadata": {
    "ExecuteTime": {
     "end_time": "2021-05-13T21:38:41.457235Z",
     "start_time": "2021-05-13T21:38:41.446235Z"
    }
   },
   "outputs": [],
   "source": [
    "with open(filename_norm, 'wb') as file:\n",
    "    pickle.dump(full_pipeline_with_predictor, file)"
   ]
  },
  {
   "cell_type": "code",
   "execution_count": null,
   "metadata": {},
   "outputs": [],
   "source": []
  }
 ],
 "metadata": {
  "kernelspec": {
   "display_name": "Python 3",
   "language": "python",
   "name": "python3"
  },
  "language_info": {
   "codemirror_mode": {
    "name": "ipython",
    "version": 3
   },
   "file_extension": ".py",
   "mimetype": "text/x-python",
   "name": "python",
   "nbconvert_exporter": "python",
   "pygments_lexer": "ipython3",
   "version": "3.8.3"
  }
 },
 "nbformat": 4,
 "nbformat_minor": 4
}
