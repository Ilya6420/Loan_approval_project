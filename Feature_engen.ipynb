{
 "cells": [
  {
   "cell_type": "code",
   "execution_count": 30,
   "metadata": {
    "ExecuteTime": {
     "end_time": "2021-05-13T20:36:37.441291Z",
     "start_time": "2021-05-13T20:36:37.436269Z"
    }
   },
   "outputs": [],
   "source": [
    "import pandas as pd\n",
    "import numpy as np\n",
    "import matplotlib.pyplot as plt\n",
    "import seaborn as sns"
   ]
  },
  {
   "cell_type": "code",
   "execution_count": 31,
   "metadata": {
    "ExecuteTime": {
     "end_time": "2021-05-13T20:36:37.677348Z",
     "start_time": "2021-05-13T20:36:37.670328Z"
    }
   },
   "outputs": [],
   "source": [
    "from sklearn.model_selection import train_test_split\n",
    "from sklearn.linear_model import LogisticRegression\n",
    "from sklearn.ensemble import RandomForestClassifier\n",
    "from sklearn.metrics import classification_report\n",
    "from sklearn.preprocessing import StandardScaler"
   ]
  },
  {
   "cell_type": "code",
   "execution_count": 92,
   "metadata": {
    "ExecuteTime": {
     "end_time": "2021-05-13T20:45:50.515351Z",
     "start_time": "2021-05-13T20:45:50.511350Z"
    }
   },
   "outputs": [],
   "source": [
    "import warnings\n",
    "warnings.filterwarnings(\"ignore\")"
   ]
  },
  {
   "cell_type": "code",
   "execution_count": 93,
   "metadata": {
    "ExecuteTime": {
     "end_time": "2021-05-13T20:45:50.710046Z",
     "start_time": "2021-05-13T20:45:50.689047Z"
    }
   },
   "outputs": [],
   "source": [
    "data = pd.read_csv('train.csv')\n",
    "data.drop('Loan_ID', axis=1, inplace=True)"
   ]
  },
  {
   "cell_type": "code",
   "execution_count": 94,
   "metadata": {
    "ExecuteTime": {
     "end_time": "2021-05-13T20:45:51.002699Z",
     "start_time": "2021-05-13T20:45:50.989718Z"
    }
   },
   "outputs": [],
   "source": [
    "# just drop all NA\n",
    "data_NA = data.dropna()"
   ]
  },
  {
   "cell_type": "code",
   "execution_count": 95,
   "metadata": {
    "ExecuteTime": {
     "end_time": "2021-05-13T20:45:51.377351Z",
     "start_time": "2021-05-13T20:45:51.362364Z"
    }
   },
   "outputs": [],
   "source": [
    "data_NA.Dependents = data_NA.Dependents.astype('string')\n",
    "data_NA.Dependents = data_NA.Dependents.apply(lambda x: x.replace('3+','3'))\n",
    "data_NA.Dependents = data_NA.Dependents.astype('int64')"
   ]
  },
  {
   "cell_type": "code",
   "execution_count": 96,
   "metadata": {
    "ExecuteTime": {
     "end_time": "2021-05-13T20:45:51.812042Z",
     "start_time": "2021-05-13T20:45:51.799042Z"
    }
   },
   "outputs": [],
   "source": [
    "data_NA_num = data_NA.select_dtypes(include=['float64', 'int64'])\n",
    "data_NA_cat = data_NA.select_dtypes(include='object')"
   ]
  },
  {
   "cell_type": "code",
   "execution_count": 97,
   "metadata": {
    "ExecuteTime": {
     "end_time": "2021-05-13T20:45:52.197849Z",
     "start_time": "2021-05-13T20:45:52.176827Z"
    }
   },
   "outputs": [],
   "source": [
    "data_NA_cat_dum = pd.get_dummies(data_NA_cat, columns=['Gender', 'Married', 'Education', 'Self_Employed',\n",
    "                                                              'Property_Area'])"
   ]
  },
  {
   "cell_type": "code",
   "execution_count": 98,
   "metadata": {
    "ExecuteTime": {
     "end_time": "2021-05-13T20:45:52.511309Z",
     "start_time": "2021-05-13T20:45:52.502310Z"
    }
   },
   "outputs": [],
   "source": [
    "new_data_NA = pd.concat([data_NA_num, data_NA_cat_dum], axis=1)"
   ]
  },
  {
   "cell_type": "code",
   "execution_count": 99,
   "metadata": {
    "ExecuteTime": {
     "end_time": "2021-05-13T20:45:52.784667Z",
     "start_time": "2021-05-13T20:45:52.774666Z"
    }
   },
   "outputs": [],
   "source": [
    "X = new_data_NA.drop('Loan_Status', axis=1)\n",
    "y = new_data_NA['Loan_Status'].map({'N':0, 'Y': 1})"
   ]
  },
  {
   "cell_type": "code",
   "execution_count": 100,
   "metadata": {
    "ExecuteTime": {
     "end_time": "2021-05-13T20:45:53.004792Z",
     "start_time": "2021-05-13T20:45:52.992792Z"
    }
   },
   "outputs": [],
   "source": [
    "X_train, X_test, y_train, y_test = train_test_split(X, y, test_size=0.20, random_state=42, stratify=y)"
   ]
  },
  {
   "cell_type": "code",
   "execution_count": 101,
   "metadata": {
    "ExecuteTime": {
     "end_time": "2021-05-13T20:45:53.245415Z",
     "start_time": "2021-05-13T20:45:53.240429Z"
    }
   },
   "outputs": [],
   "source": [
    "# build simple rf model, call method 'feature_importances'"
   ]
  },
  {
   "cell_type": "code",
   "execution_count": 102,
   "metadata": {
    "ExecuteTime": {
     "end_time": "2021-05-13T20:45:54.177189Z",
     "start_time": "2021-05-13T20:45:53.757144Z"
    },
    "scrolled": true
   },
   "outputs": [
    {
     "name": "stdout",
     "output_type": "stream",
     "text": [
      "              precision    recall  f1-score   support\n",
      "\n",
      "           0    0.65517   0.63333   0.64407        30\n",
      "           1    0.83582   0.84848   0.84211        66\n",
      "\n",
      "    accuracy                        0.78125        96\n",
      "   macro avg    0.74550   0.74091   0.74309        96\n",
      "weighted avg    0.77937   0.78125   0.78022        96\n",
      "\n"
     ]
    }
   ],
   "source": [
    "rf_clf = RandomForestClassifier(random_state=42)\n",
    "rf_clf.fit(X_train, y_train)\n",
    "\n",
    "pred_rf = rf_clf.predict(X_test)\n",
    "print(classification_report(y_test, pred_rf, digits=5))"
   ]
  },
  {
   "cell_type": "markdown",
   "metadata": {},
   "source": [
    "**We can see that there is 6 strong features, let's remove the rest and build a model on best 6.**"
   ]
  },
  {
   "cell_type": "code",
   "execution_count": 103,
   "metadata": {
    "ExecuteTime": {
     "end_time": "2021-05-13T20:45:56.066905Z",
     "start_time": "2021-05-13T20:45:55.517753Z"
    }
   },
   "outputs": [
    {
     "data": {
      "image/png": "[encoded data removed]",
      "text/plain": [
       "<Figure size 720x360 with 1 Axes>"
      ]
     },
     "metadata": {
      "needs_background": "light"
     },
     "output_type": "display_data"
    }
   ],
   "source": [
    "pd.Series(rf_clf.feature_importances_, index=X_train.columns).sort_values().plot(kind='barh', figsize=(10,5));"
   ]
  },
  {
   "cell_type": "code",
   "execution_count": 104,
   "metadata": {
    "ExecuteTime": {
     "end_time": "2021-05-13T20:45:57.432933Z",
     "start_time": "2021-05-13T20:45:57.424932Z"
    }
   },
   "outputs": [],
   "source": [
    "X_selected = X[['Credit_History', 'LoanAmount', 'ApplicantIncome', 'CoapplicantIncome', 'Dependents', 'Loan_Amount_Term']]"
   ]
  },
  {
   "cell_type": "code",
   "execution_count": 105,
   "metadata": {
    "ExecuteTime": {
     "end_time": "2021-05-13T20:45:57.840092Z",
     "start_time": "2021-05-13T20:45:57.827126Z"
    }
   },
   "outputs": [],
   "source": [
    "X_train, X_test, y_train, y_test = train_test_split(X_selected, y, test_size=0.20, random_state=42, stratify=y)"
   ]
  },
  {
   "cell_type": "code",
   "execution_count": 106,
   "metadata": {
    "ExecuteTime": {
     "end_time": "2021-05-13T20:45:58.711884Z",
     "start_time": "2021-05-13T20:45:58.307811Z"
    }
   },
   "outputs": [
    {
     "name": "stdout",
     "output_type": "stream",
     "text": [
      "              precision    recall  f1-score   support\n",
      "\n",
      "           0    0.71875   0.76667   0.74194        30\n",
      "           1    0.89062   0.86364   0.87692        66\n",
      "\n",
      "    accuracy                        0.83333        96\n",
      "   macro avg    0.80469   0.81515   0.80943        96\n",
      "weighted avg    0.83691   0.83333   0.83474        96\n",
      "\n"
     ]
    }
   ],
   "source": [
    "rf_clf = RandomForestClassifier(random_state=42)\n",
    "rf_clf.fit(X_train, y_train)\n",
    "\n",
    "pred_rf = rf_clf.predict(X_test)\n",
    "print(classification_report(y_test, pred_rf, digits=5))"
   ]
  },
  {
   "cell_type": "code",
   "execution_count": 107,
   "metadata": {
    "ExecuteTime": {
     "end_time": "2021-05-13T20:45:59.824777Z",
     "start_time": "2021-05-13T20:45:59.744776Z"
    }
   },
   "outputs": [
    {
     "name": "stdout",
     "output_type": "stream",
     "text": [
      "              precision    recall  f1-score   support\n",
      "\n",
      "           0    0.85000   0.56667   0.68000        30\n",
      "           1    0.82895   0.95455   0.88732        66\n",
      "\n",
      "    accuracy                        0.83333        96\n",
      "   macro avg    0.83947   0.76061   0.78366        96\n",
      "weighted avg    0.83553   0.83333   0.82254        96\n",
      "\n"
     ]
    }
   ],
   "source": [
    "log_clf = LogisticRegression(random_state=42,max_iter=1000)\n",
    "log_clf.fit(X_train, y_train)\n",
    "\n",
    "pred_log = log_clf.predict(X_test)\n",
    "print(classification_report(y_test, pred_log, digits=5))"
   ]
  },
  {
   "cell_type": "markdown",
   "metadata": {
    "ExecuteTime": {
     "end_time": "2021-04-25T11:38:59.233329Z",
     "start_time": "2021-04-25T11:38:59.229329Z"
    }
   },
   "source": [
    "**We can see that our metrics have improved after removing unnecessary features.**"
   ]
  },
  {
   "cell_type": "code",
   "execution_count": null,
   "metadata": {},
   "outputs": [],
   "source": []
  }
 ],
 "metadata": {
  "kernelspec": {
   "display_name": "Python 3",
   "language": "python",
   "name": "python3"
  },
  "language_info": {
   "codemirror_mode": {
    "name": "ipython",
    "version": 3
   },
   "file_extension": ".py",
   "mimetype": "text/x-python",
   "name": "python",
   "nbconvert_exporter": "python",
   "pygments_lexer": "ipython3",
   "version": "3.8.3"
  }
 },
 "nbformat": 4,
 "nbformat_minor": 4
}
